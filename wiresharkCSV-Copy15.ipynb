{
 "cells": [
  {
   "cell_type": "code",
   "execution_count": 1,
   "metadata": {},
   "outputs": [],
   "source": [
    "import numpy as np\n",
    "import pandas as pd\n",
    "import os\n",
    "from datetime import datetime\n",
    "from datetime import datetime\n",
    "from pytz import timezone\n",
    "\n",
    "src = '****'\n",
    "local = '*****'\n",
    "val1 = datetime.strptime('2020-03-02 15:52:38.000000','%Y-%m-%d %H:%M:%S.%f')"
   ]
  },
  {
   "cell_type": "code",
   "execution_count": 2,
   "metadata": {},
   "outputs": [],
   "source": [
    "path = '**\\\\WiresharkCapture_20000.csv'"
   ]
  },
  {
   "cell_type": "code",
   "execution_count": 3,
   "metadata": {},
   "outputs": [],
   "source": [
    "def getFileName(path):\n",
    "    return getCase(path)+\"_\"+os.path.basename(path)"
   ]
  },
  {
   "cell_type": "code",
   "execution_count": 4,
   "metadata": {},
   "outputs": [],
   "source": [
    "def getCase(path):\n",
    "    #print(path)\n",
    "    case = \"\"\n",
    "    if(\"2005\" in path):\n",
    "        case = \"RM11\"\n",
    "    if(\"2006\" in path):\n",
    "        #print(\"inside if\")\n",
    "        case = \"RM22\"\n",
    "    if(\"2001\" in path):\n",
    "        case = \"PV33\"\n",
    "    if(\"2000\" in path):\n",
    "        case = \"meterr\"\n",
    "    #print(\"case : \"+case)\n",
    "    return case"
   ]
  },
  {
   "cell_type": "code",
   "execution_count": 5,
   "metadata": {},
   "outputs": [],
   "source": [
    "def readCsv(path):\n",
    "    df = pd.read_csv(path)\n",
    "    return df"
   ]
  },
  {
   "cell_type": "code",
   "execution_count": 6,
   "metadata": {},
   "outputs": [],
   "source": [
    "def appendToFrame(df,src,local,path,val1): \n",
    "    df['frame.time']=df['frame.time'].str[:-25]\n",
    "    df['frame.time'] = pd.to_datetime(df['frame.time'])\n",
    "    df = df.sort_values(by=['frame.time'], ascending=True)\n",
    "    df['time_local'] = df['frame.time'].dt.tz_localize('EST').dt.tz_convert('UTC')\n",
    "    df['time_local']= df['time_local'].apply(lambda d: d.replace(tzinfo=None))\n",
    "    df = df.sort_values(by=['time_local'], ascending=True)\n",
    "    df['delta'] = df['time_local'].apply(lambda d: d - val1)\n",
    "    df['delta'] = df['delta'].apply(lambda d: (str(d.days)+\" days, \"+str(round(d.seconds//3600))+\" hours\"))\n",
    "    inbound=0\n",
    "    outbound=0\n",
    "    scan =0\n",
    "    control = 0\n",
    "    scan_rate=0\n",
    "    ar=[]\n",
    "    temp_date = df['delta'].iloc[0]\n",
    "    ar.append(['DER_case','time_UTC','Frequency Of Scans','Frequency of Control Signals','Inbound','Outbound','Scan Rate'])\n",
    "    for row in range(len(df)):\n",
    "        #df['frame.time'][row]=timezone('EST').localize(df['frame.time'][row])\n",
    "        #df['delta'].iloc[row] = df['frame.time'].iloc[row] - val1\n",
    "        #df['delta'].iloc[row] = str(df['delta'].iloc[row].days)+\" days, \"+str(round(df['delta'].iloc[row].seconds/3600))+\" hour\"\n",
    "        #print(df['delta'].iloc[row])\n",
    "        #if(row==0):\n",
    "        #df = df.sort_values(by=['frame.time'], ascending=True)\n",
    "        #print(temp_date)\n",
    "        if(df.iloc[row]['delta']==temp_date):\n",
    "            if(df.iloc[row]['ip.src']==src and df.iloc[row]['ip.dst']==local):\n",
    "                inbound = df.iloc[row]['frame.len']+inbound\n",
    "            if(df.iloc[row]['ip.src']==local and df.iloc[row]['ip.dst']==src):\n",
    "                outbound = df.iloc[row]['frame.len']+outbound\n",
    "            if(\"Read\" in df.iloc[row]['_ws.col.Info']):\n",
    "                scan = scan+1\n",
    "            if(\"Direct Operate\" in df.iloc[row]['_ws.col.Info']):\n",
    "                control = control+1\n",
    "        if(df.iloc[row]['delta']!=temp_date):\n",
    "            if(temp_date.startswith('0 days')):\n",
    "                ar.append([getCase(path),temp_date,scan,control,inbound,outbound,(scan/60)])\n",
    "            temp_date = df.iloc[row]['delta']\n",
    "            scan = 0\n",
    "            control = 0\n",
    "            inbound = 0\n",
    "            outbound = 0\n",
    "            if(df.iloc[row]['ip.src']==src and df.iloc[row]['ip.dst']==local):\n",
    "                inbound = df.iloc[row]['frame.len']+inbound\n",
    "            if(df.iloc[row]['ip.src']==local and df.iloc[row]['ip.dst']==src):\n",
    "                outbound = df.iloc[row]['frame.len']+outbound\n",
    "            if(\"Read\" in df.iloc[row]['_ws.col.Info']):\n",
    "                scan = scan+1\n",
    "            if(\"Direct Operate\" in df.iloc[row]['_ws.col.Info']):\n",
    "                control = control+1\n",
    "    if(temp_date.startswith('0 days')):\n",
    "        ar.append([getCase(path),temp_date,scan,control,inbound,outbound,(scan/60)])\n",
    "    saveFrameToCSV(ar,path)\n",
    "    print(\"File Saved Successfully\")"
   ]
  },
  {
   "cell_type": "code",
   "execution_count": 7,
   "metadata": {},
   "outputs": [],
   "source": [
    "def saveFrameToCSV(ar,path):\n",
    "    cs = pd.DataFrame(data=ar[1:], columns=ar[0])\n",
    "    #print(cs.describe())\n",
    "    #cs.index = cs['DER_case']\n",
    "    cs = cs.iloc[1:]\n",
    "    #cs.drop(cs.iloc[0],inplace=True)\n",
    "    cs.to_csv(getFileName(path),index=False, index_label=False)\n",
    "    cs['sum'] = cs['Inbound']+cs['Outbound']\n",
    "    print(\"Peak Hour\")\n",
    "    print(cs[cs['sum']==cs['sum'].max()].iloc[0])\n",
    "    print(\"---------------------\")\n",
    "    print(\"Non-peak Hour\")\n",
    "    print(cs[cs['sum']<=round(cs['sum'].mean())].iloc[0])\n",
    "    #if(cs['Frequency of Control Signals'].max()==0):\n",
    "     #   cs1 = cs[cs['Frequency Of Scans'] ==cs['Frequency Of Scans'].max()]\n",
    "     #   print(cs1[cs1['Inbound']==cs1['Inbound'].max()].iloc[0])\n",
    "   # else:\n",
    "    #    print(cs[cs['Frequency of Control Signals']==cs['Frequency of Control Signals'].max()].iloc[0])\n",
    "   # print(cs[cs['Frequency Of Scans']==cs['Frequency Of Scans'].min()].iloc[0])\n",
    "    return cs"
   ]
  },
  {
   "cell_type": "code",
   "execution_count": null,
   "metadata": {},
   "outputs": [],
   "source": []
  }
 ],
 "metadata": {
  "kernelspec": {
   "display_name": "Python 3",
   "language": "python",
   "name": "python3"
  },
  "language_info": {
   "codemirror_mode": {
    "name": "ipython",
    "version": 3
   },
   "file_extension": ".py",
   "mimetype": "text/x-python",
   "name": "python",
   "nbconvert_exporter": "python",
   "pygments_lexer": "ipython3",
   "version": "3.7.4"
  }
 },
 "nbformat": 4,
 "nbformat_minor": 2
}